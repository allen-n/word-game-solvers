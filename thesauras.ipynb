{
 "cells": [
  {
   "attachments": {},
   "cell_type": "markdown",
   "metadata": {},
   "source": [
    "# My own testing"
   ]
  },
  {
   "cell_type": "code",
   "execution_count": 1,
   "metadata": {},
   "outputs": [
    {
     "name": "stdout",
     "output_type": "stream",
     "text": [
      "/Users/allennikka/repos/word-game-solvers/.venv/bin/pip: line 3: import: command not found\n",
      "/Users/allennikka/repos/word-game-solvers/.venv/bin/pip: line 4: import: command not found\n",
      "/Users/allennikka/repos/word-game-solvers/.venv/bin/pip: line 5: from: command not found\n",
      "/Users/allennikka/repos/word-game-solvers/.venv/bin/pip: pip: line 7: syntax error near unexpected token `('\n",
      "/Users/allennikka/repos/word-game-solvers/.venv/bin/pip: pip: line 7: `    sys.argv[0] = re.sub(r'(-script\\.pyw|\\.exe)?$', '', sys.argv[0])'\n"
     ]
    }
   ],
   "source": [
    "!sh pip install -r requirements.txt"
   ]
  },
  {
   "cell_type": "code",
   "execution_count": 2,
   "metadata": {},
   "outputs": [],
   "source": [
    "# Reload external files\n",
    "%load_ext autoreload\n",
    "%autoreload 2"
   ]
  },
  {
   "cell_type": "code",
   "execution_count": 8,
   "metadata": {},
   "outputs": [
    {
     "name": "stderr",
     "output_type": "stream",
     "text": [
      "/Users/allennikka/repos/word-game-solvers/.venv/lib/python3.11/site-packages/tqdm/auto.py:21: TqdmWarning: IProgress not found. Please update jupyter and ipywidgets. See https://ipywidgets.readthedocs.io/en/stable/user_install.html\n",
      "  from .autonotebook import tqdm as notebook_tqdm\n"
     ]
    }
   ],
   "source": [
    "import logging\n",
    "from tqdm import tqdm_notebook\n",
    "from bertopic import BERTopic\n",
    "from sentence_transformers import SentenceTransformer\n",
    "from sklearn.metrics.pairwise import cosine_similarity\n",
    "import numpy as np\n",
    "logging.basicConfig(level=logging.INFO)"
   ]
  },
  {
   "cell_type": "code",
   "execution_count": 12,
   "metadata": {},
   "outputs": [],
   "source": [
    "import pickle\n",
    "def save_embeddings(word_list, embeddings, file_path='embeddings.pkl'):\n",
    "    with open(file_path, 'wb') as f:\n",
    "        pickle.dump((word_list, embeddings), f)\n",
    "\n",
    "# Function to load embeddings from a file\n",
    "def load_embeddings(file_path='embeddings.pkl'):\n",
    "    with open(file_path, 'rb') as f:\n",
    "        return pickle.load(f)"
   ]
  },
  {
   "cell_type": "code",
   "execution_count": 9,
   "metadata": {},
   "outputs": [
    {
     "name": "stdout",
     "output_type": "stream",
     "text": [
      "Loaded 370103 words\n"
     ]
    }
   ],
   "source": [
    "def load_words():\n",
    "    with open('words_alpha.txt') as word_file:\n",
    "        valid_words = set(word_file.read().split())\n",
    "        valid_words = list(map(lambda x: x.lower(), valid_words))\n",
    "    return valid_words\n",
    "\n",
    "word_list = load_words()\n",
    "print(f\"Loaded {len(word_list)} words\")"
   ]
  },
  {
   "cell_type": "code",
   "execution_count": 10,
   "metadata": {},
   "outputs": [
    {
     "name": "stderr",
     "output_type": "stream",
     "text": [
      "INFO:sentence_transformers.SentenceTransformer:Use pytorch device_name: mps\n",
      "INFO:sentence_transformers.SentenceTransformer:Load pretrained SentenceTransformer: all-MiniLM-L6-v2\n",
      "Batches: 100%|██████████| 11566/11566 [03:05<00:00, 62.35it/s]\n"
     ]
    }
   ],
   "source": [
    "\n",
    "model = SentenceTransformer('all-MiniLM-L6-v2')\n",
    "embeddings = model.encode(word_list, show_progress_bar=True)\n"
   ]
  },
  {
   "cell_type": "code",
   "execution_count": 14,
   "metadata": {},
   "outputs": [
    {
     "name": "stdout",
     "output_type": "stream",
     "text": [
      "Loaded embeddings from file\n"
     ]
    }
   ],
   "source": [
    "embeddings_file = 'embeddings.pkl'\n",
    "import os\n",
    "if os.path.exists(embeddings_file):\n",
    "    word_list, embeddings = load_embeddings(embeddings_file)\n",
    "    print(\"Loaded embeddings from file\")\n",
    "else:\n",
    "    # Generate embeddings using BERTopic\n",
    "    model = SentenceTransformer('all-MiniLM-L6-v2')\n",
    "    embeddings = model.encode(word_list, show_progress_bar=True)\n",
    "    save_embeddings(word_list, embeddings, embeddings_file)\n",
    "    print(\"Generated and saved embeddings\")"
   ]
  },
  {
   "cell_type": "code",
   "execution_count": 15,
   "metadata": {},
   "outputs": [],
   "source": [
    "word_embeddings = dict(zip(word_list, embeddings))"
   ]
  },
  {
   "cell_type": "code",
   "execution_count": 16,
   "metadata": {},
   "outputs": [],
   "source": [
    "def find_similar_words(word, top_n=5):\n",
    "    if word not in word_embeddings:\n",
    "        print(f\"Word '{word}' not in vocabulary\")\n",
    "        return []\n",
    "    \n",
    "    word_emb = word_embeddings[word].reshape(1, -1)\n",
    "    similarities = cosine_similarity(word_emb, embeddings).flatten()\n",
    "    similar_indices = similarities.argsort()[-top_n-1:-1][::-1]\n",
    "    similar_words = [word_list[i] for i in similar_indices]\n",
    "    \n",
    "    return similar_words"
   ]
  },
  {
   "cell_type": "code",
   "execution_count": 21,
   "metadata": {},
   "outputs": [
    {
     "name": "stdout",
     "output_type": "stream",
     "text": [
      "Words similar to 'sneaky': ['stealthfully', 'catchy', 'stealthier', 'stealth', 'hacky', 'stealthily', 'stealthlike', 'stealthful', 'tricksy', 'stealthiest', 'disguisedly', 'sneakingness', 'stealthy', 'sneaker', 'sneaksby', 'sneaksman', 'sneaking', 'sneakbox', 'sneakingly', 'sneakered', 'sneaked', 'sneaks', 'sneakishly', 'sneakiness', 'sneakishness', 'sneak', 'sneakier', 'sneakily', 'sneakiest', 'sneakish']\n"
     ]
    }
   ],
   "source": [
    "target_word = 'sneaky'\n",
    "similar_words = find_similar_words(target_word, top_n=30)\n",
    "print(f\"Words similar to '{target_word}': {similar_words[::-1]}\")"
   ]
  }
 ],
 "metadata": {
  "kernelspec": {
   "display_name": "tcm-events",
   "language": "python",
   "name": "python3"
  },
  "language_info": {
   "codemirror_mode": {
    "name": "ipython",
    "version": 3
   },
   "file_extension": ".py",
   "mimetype": "text/x-python",
   "name": "python",
   "nbconvert_exporter": "python",
   "pygments_lexer": "ipython3",
   "version": "3.11.6"
  },
  "orig_nbformat": 4
 },
 "nbformat": 4,
 "nbformat_minor": 2
}
